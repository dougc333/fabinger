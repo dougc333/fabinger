{
 "cells": [
  {
   "cell_type": "code",
   "execution_count": 2,
   "metadata": {},
   "outputs": [
    {
     "ename": "SyntaxError",
     "evalue": "invalid syntax (<ipython-input-2-cd32bf45f168>, line 2)",
     "output_type": "error",
     "traceback": [
      "\u001b[0;36m  File \u001b[0;32m\"<ipython-input-2-cd32bf45f168>\"\u001b[0;36m, line \u001b[0;32m2\u001b[0m\n\u001b[0;31m    data {\u001b[0m\n\u001b[0m         ^\u001b[0m\n\u001b[0;31mSyntaxError\u001b[0m\u001b[0;31m:\u001b[0m invalid syntax\n"
     ]
    }
   ],
   "source": [
    "import pystan"
   ]
  },
  {
   "cell_type": "code",
   "execution_count": 3,
   "metadata": {},
   "outputs": [
    {
     "name": "stderr",
     "output_type": "stream",
     "text": [
      "INFO:pystan:COMPILING THE C++ CODE FOR MODEL anon_model_ba3f8e1b45f550d4965c99b7301ff3b0 NOW.\n"
     ]
    }
   ],
   "source": [
    "schools_code = \"\"\"\n",
    "data {\n",
    "    int<lower=0> J; // number of schools\n",
    "    vector[J] y; // estimated treatment effects\n",
    "    vector<lower=0>[J] sigma; // s.e. of effect estimates\n",
    "}\n",
    "parameters {\n",
    "    real mu;\n",
    "    real<lower=0> tau;\n",
    "    vector[J] eta;\n",
    "}\n",
    "transformed parameters {\n",
    "    vector[J] theta;\n",
    "    theta = mu + tau * eta;\n",
    "}\n",
    "model {\n",
    "    eta ~ normal(0, 1);\n",
    "    y ~ normal(theta, sigma);\n",
    "}\"\"\"\n",
    "\n",
    "schools_dat = {'J': 8,\n",
    "               'y': [28,  8, -3,  7, -1,  1, 18, 12],\n",
    "               'sigma': [15, 10, 16, 11,  9, 11, 10, 18]}\n",
    "\n",
    "sm = pystan.StanModel(model_code=schools_code)\n",
    "fit = sm.sampling(data=schools_dat, iter=1000, chains=4)"
   ]
  },
  {
   "cell_type": "code",
   "execution_count": 4,
   "metadata": {},
   "outputs": [
    {
     "name": "stdout",
     "output_type": "stream",
     "text": [
      "Inference for Stan model: anon_model_ba3f8e1b45f550d4965c99b7301ff3b0.\n",
      "4 chains, each with iter=1000; warmup=500; thin=1; \n",
      "post-warmup draws per chain=500, total post-warmup draws=2000.\n",
      "\n",
      "           mean se_mean     sd   2.5%    25%    50%    75%  97.5%  n_eff   Rhat\n",
      "mu         8.17    0.18   5.09  -1.19    4.7   8.06  11.43  18.84    777    1.0\n",
      "tau        6.52    0.18   5.25   0.32   2.62   5.27   9.05  19.73    818   1.01\n",
      "eta[1]     0.41    0.02   0.95  -1.48  -0.19   0.42   1.06    2.2   1667    1.0\n",
      "eta[2]    -0.02    0.02   0.92  -1.82  -0.64  -0.04   0.61    1.8   1464    1.0\n",
      "eta[3]    -0.23    0.02   0.93  -1.96  -0.84  -0.26   0.37   1.69   1580    1.0\n",
      "eta[4]    -0.05    0.02   0.87  -1.66  -0.64  -0.04   0.52   1.76   1871    1.0\n",
      "eta[5]    -0.38    0.02   0.89  -2.13  -0.98  -0.38    0.2   1.44   1440    1.0\n",
      "eta[6]    -0.25    0.02    0.9  -2.07  -0.83  -0.25   0.33   1.59   1589    1.0\n",
      "eta[7]     0.34    0.02   0.86  -1.47  -0.21   0.37   0.92    2.0   1390    1.0\n",
      "eta[8]     0.06    0.02   0.94  -1.82  -0.58   0.05   0.69   1.89   1663    1.0\n",
      "theta[1]  11.59    0.25   8.23  -2.23    6.2  10.59  15.72  31.38   1129    1.0\n",
      "theta[2]   7.85    0.14   6.32  -5.49   3.93   7.95  11.81  20.47   2081    1.0\n",
      "theta[3]   6.18    0.19   7.55 -11.62   2.09   6.73  10.93  19.99   1633    1.0\n",
      "theta[4]   7.65    0.14   6.26  -5.17   3.58   7.71  11.61  20.15   2081    1.0\n",
      "theta[5]   5.15    0.16   6.71 -10.03   1.02   5.72   9.75  17.13   1829    1.0\n",
      "theta[6]   6.15    0.17   6.91  -8.36   2.03   6.61  10.59  18.31   1673    1.0\n",
      "theta[7]   10.6    0.16   6.63  -1.06   6.14  10.06  14.53  25.44   1641    1.0\n",
      "theta[8]    8.7     0.2   7.86  -7.05   3.97   8.54  13.02  26.01   1622    1.0\n",
      "lp__       -4.9     0.1   2.61 -10.63  -6.53  -4.59  -3.05  -0.53    616   1.01\n",
      "\n",
      "Samples were drawn using NUTS at Fri Jul 10 16:46:29 2020.\n",
      "For each parameter, n_eff is a crude measure of effective sample size,\n",
      "and Rhat is the potential scale reduction factor on split chains (at \n",
      "convergence, Rhat=1).\n"
     ]
    }
   ],
   "source": [
    "print(fit)"
   ]
  },
  {
   "cell_type": "code",
   "execution_count": null,
   "metadata": {},
   "outputs": [],
   "source": []
  }
 ],
 "metadata": {
  "kernelspec": {
   "display_name": "Python 3",
   "language": "python",
   "name": "python3"
  },
  "language_info": {
   "codemirror_mode": {
    "name": "ipython",
    "version": 3
   },
   "file_extension": ".py",
   "mimetype": "text/x-python",
   "name": "python",
   "nbconvert_exporter": "python",
   "pygments_lexer": "ipython3",
   "version": "3.7.7"
  }
 },
 "nbformat": 4,
 "nbformat_minor": 4
}
