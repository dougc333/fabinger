{
 "cells": [
  {
   "cell_type": "code",
   "execution_count": null,
   "metadata": {},
   "outputs": [],
   "source": [
    "<h6>Hypothesis testing</h6>\n",
    "<p>the null hypothesis</p>\n",
    "$\\alpha=0$\n",
    "<p></p>\n",
    "When to reject the null hypothesis? When there is statisticial significance determined by p<threshold. Compute\n",
    "the distribution s. SS is determined by meeting threshold w/cause effect. \n",
    "<p>Example</p>\n",
    "The example does gene expression cause some effect. Or does some variable change cause a statistically significant \n",
    "change in the output. \n",
    "\n",
    "\n",
    "<h6>One statistical test, set alpha to control type1 erros</h6>"
   ]
  },
  {
   "cell_type": "code",
   "execution_count": null,
   "metadata": {},
   "outputs": [],
   "source": [
    "<h6>Multiple Hypothesis Testing</h6>\n",
    "\n",
    "<p>Bonferroni for pvalue adjustment</p>"
   ]
  },
  {
   "cell_type": "code",
   "execution_count": null,
   "metadata": {},
   "outputs": [],
   "source": [
    "Fake data, 5 variables. One changes output by 10%, etc.. add multiple variables. THey may or maynot be correlated\n",
    "<p>Benjamin-Hochberg vs. Bonferroni for FDR correction</p>\n"
   ]
  },
  {
   "cell_type": "markdown",
   "metadata": {},
   "source": [
    "<h6>Model Selection</h6>\n",
    "Given 2 models. \n",
    "<p></p>\n",
    "$y=\\alpha_0 + \\alpha_1x$\n",
    "<p></p>\n",
    "$y=\\alpha_0 + \\alpha_1x+\\alpha_2x^2$\n",
    "<p></p>\n",
    "we can say the second model has more parameters and hence should fit the data more closely We can keep \n",
    "adding parameters until the model fits the data exactly. This is the definition of overfitting because the \n",
    "new data wont be identally the same as the existing data. \n",
    "<p></p>\n",
    "\n"
   ]
  },
  {
   "cell_type": "code",
   "execution_count": null,
   "metadata": {},
   "outputs": [],
   "source": []
  }
 ],
 "metadata": {
  "kernelspec": {
   "display_name": "Python 3",
   "language": "python",
   "name": "python3"
  },
  "language_info": {
   "codemirror_mode": {
    "name": "ipython",
    "version": 3
   },
   "file_extension": ".py",
   "mimetype": "text/x-python",
   "name": "python",
   "nbconvert_exporter": "python",
   "pygments_lexer": "ipython3",
   "version": "3.6.10"
  }
 },
 "nbformat": 4,
 "nbformat_minor": 2
}
