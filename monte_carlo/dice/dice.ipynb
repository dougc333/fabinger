{
 "cells": [
  {
   "cell_type": "code",
   "execution_count": 15,
   "metadata": {},
   "outputs": [
    {
     "name": "stdout",
     "output_type": "stream",
     "text": [
      "[3 5 3 5 4 3 1 5 4 4 4 2 5 1 3 2 3 4 3 3 4 3 4 2 2 4 1 2 5 2 3 4 3 2 1 4 4\n",
      " 5 2 2 1 4 3 2 2 4 4 3 3 4 1 2 2 3 4 4 1 4 1 5 2 5 3 5 1 5 5 1 1 4 1 1 5 3\n",
      " 5 5 2 1 3 2 1 1 1 1 3 3 4 5 1 1 5 3 5 1 4 5 2 2 3 5]\n",
      "probability of 1 is:0.21\n",
      "[3 4 2 3 4 4 5 5 5 5 5 4 3 2 5 5 2 5 3 2 2 2 2 2 5 5 3 2 4 5 3 5 2 2 3 2 3\n",
      " 2 5 3 3 3 5 3 3 3 3 4 5 4 5 3 2 4 3 5 5 4 2 3 3 5 4 2 3 3 4 4 2 3 4 5 5 3\n",
      " 2 2 2 2 5 3 5 4 2 2 4 5 5 5 2 5 5 3 3 4 3 3 5 2 5 5]\n",
      "probability of 2 is:0.25\n",
      "[1 5 5 1 1 1 1 5 2 1 2 5 3 4 3 5 5 4 4 1 2 4 2 1 1 3 3 2 2 3 3 4 4 3 5 4 1\n",
      " 3 3 1 2 4 4 1 5 1 2 2 1 3 4 3 1 2 1 1 3 4 1 1 4 4 3 3 3 1 5 4 4 3 5 2 2 2\n",
      " 2 1 3 5 5 2 3 2 5 1 3 1 4 5 1 1 4 2 4 3 4 1 2 2 5 3]\n",
      "probability of 3 is:0.21\n"
     ]
    }
   ],
   "source": [
    "import numpy as np\n",
    "num_trials=100\n",
    "num_events=0\n",
    "\n",
    "event = np.random.randint(low=1,high=6,size=(100))\n",
    "print(event)\n",
    "print(\"probability of 1 is:{}\".format(np.count_nonzero(event==1)/num_trials))\n",
    "#every time I run this I get a different number\n",
    "event = np.random.randint(low=2,high=6,size=(100))\n",
    "print(event)\n",
    "print(\"probability of 2 is:{}\".format(np.count_nonzero(event==2)/num_trials))\n",
    "event = np.random.randint(low=1,high=6,size=(100))\n",
    "print(event)\n",
    "print(\"probability of 3 is:{}\".format(np.count_nonzero(event==3)/num_trials))\n",
    "\n"
   ]
  },
  {
   "cell_type": "code",
   "execution_count": null,
   "metadata": {},
   "outputs": [],
   "source": []
  },
  {
   "cell_type": "code",
   "execution_count": null,
   "metadata": {},
   "outputs": [],
   "source": []
  },
  {
   "cell_type": "code",
   "execution_count": null,
   "metadata": {},
   "outputs": [],
   "source": []
  }
 ],
 "metadata": {
  "kernelspec": {
   "display_name": "Python 3",
   "language": "python",
   "name": "python3"
  },
  "language_info": {
   "codemirror_mode": {
    "name": "ipython",
    "version": 3
   },
   "file_extension": ".py",
   "mimetype": "text/x-python",
   "name": "python",
   "nbconvert_exporter": "python",
   "pygments_lexer": "ipython3",
   "version": "3.7.7"
  }
 },
 "nbformat": 4,
 "nbformat_minor": 4
}
