{
 "cells": [
  {
   "cell_type": "code",
   "execution_count": 8,
   "metadata": {},
   "outputs": [
    {
     "name": "stdout",
     "output_type": "stream",
     "text": [
      "0 -3.321928094887362\n",
      "1 -3.321928094887362\n",
      "2 -3.321928094887362\n",
      "3 -3.321928094887362\n",
      "4 -3.321928094887362\n",
      "5 -3.321928094887362\n",
      "6 -3.321928094887362\n",
      "7 -3.321928094887362\n",
      "8 -3.321928094887362\n",
      "9 -3.321928094887362\n",
      "3.321928094887362\n",
      "0.28639695711595625\n",
      "1.0\n"
     ]
    }
   ],
   "source": [
    "import numpy as np\n",
    "import math\n",
    "sum=0\n",
    "N=10\n",
    "for idx in range(0,N):\n",
    "    print(idx,np.log2(1/N))\n",
    "    sum+=-((1/N)*np.log2(1/N))\n",
    "print(sum)\n",
    "#what is the distance between 2 uniform distributions? \n",
    "#which has higher entropy? A patient with 95% probability w/disease or patient with 50% prob of getting disease?  \n",
    "print(-(.95*np.log2(.95)+.05*np.log2(.05)))\n",
    "print(-(.5*np.log2(.5)+.5*np.log2(.5)))\n",
    "#the uniform probability has the highest entropy. You can make a graph of a bernoulli distribtion, \n",
    "#a binary outcome variable. And entropy is higherst at p=0.5.\n"
   ]
  },
  {
   "cell_type": "code",
   "execution_count": 16,
   "metadata": {},
   "outputs": [
    {
     "name": "stdout",
     "output_type": "stream",
     "text": [
      "[0.  0.1 0.2 0.3 0.4 0.5 0.6 0.7 0.8 0.9 1. ]\n",
      "0.0 nan\n",
      "0.1 0.4689955935892812\n",
      "0.2 0.7219280948873623\n",
      "0.30000000000000004 0.8812908992306927\n",
      "0.4 0.9709505944546686\n",
      "0.5 1.0\n",
      "0.6000000000000001 0.9709505944546686\n",
      "0.7000000000000001 0.8812908992306926\n",
      "0.8 0.7219280948873623\n",
      "0.9 0.4689955935892811\n",
      "1.0 nan\n"
     ]
    },
    {
     "name": "stderr",
     "output_type": "stream",
     "text": [
      "/Users/dougchang/miniconda3/lib/python3.7/site-packages/ipykernel_launcher.py:4: RuntimeWarning: divide by zero encountered in log2\n",
      "  after removing the cwd from sys.path.\n",
      "/Users/dougchang/miniconda3/lib/python3.7/site-packages/ipykernel_launcher.py:4: RuntimeWarning: invalid value encountered in double_scalars\n",
      "  after removing the cwd from sys.path.\n"
     ]
    }
   ],
   "source": [
    "a=np.linspace(0,1,11)\n",
    "print(a)\n",
    "def entropy(a):\n",
    "    return a*np.log2(a)+(1-a)*np.log2(1-a)\n",
    "for x in a:\n",
    "    print(x,-entropy(x))\n"
   ]
  },
  {
   "cell_type": "code",
   "execution_count": null,
   "metadata": {},
   "outputs": [],
   "source": []
  }
 ],
 "metadata": {
  "kernelspec": {
   "display_name": "Python 3",
   "language": "python",
   "name": "python3"
  },
  "language_info": {
   "codemirror_mode": {
    "name": "ipython",
    "version": 3
   },
   "file_extension": ".py",
   "mimetype": "text/x-python",
   "name": "python",
   "nbconvert_exporter": "python",
   "pygments_lexer": "ipython3",
   "version": "3.7.3"
  }
 },
 "nbformat": 4,
 "nbformat_minor": 2
}
