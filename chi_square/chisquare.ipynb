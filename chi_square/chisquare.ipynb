{
 "cells": [
  {
   "cell_type": "code",
   "execution_count": 19,
   "metadata": {},
   "outputs": [
    {
     "name": "stdout",
     "output_type": "stream",
     "text": [
      "(150, 4) (150,)\n"
     ]
    }
   ],
   "source": [
    "from sklearn.feature_selection import chi2\n",
    "from sklearn.datasets import load_iris\n",
    "X, y  = load_iris(return_X_y=True)\n",
    "#print(type(iris))\n",
    "#print(type(iris.data))\n",
    "#print(iris.data)\n",
    "\n",
    "print(X.shape,y.shape)\n"
   ]
  },
  {
   "cell_type": "code",
   "execution_count": 20,
   "metadata": {},
   "outputs": [
    {
     "name": "stdout",
     "output_type": "stream",
     "text": [
      "(array([ 10.81782088,   3.7107283 , 116.31261309,  67.0483602 ]), array([4.47651499e-03, 1.56395980e-01, 5.53397228e-26, 2.75824965e-15]))\n"
     ]
    }
   ],
   "source": [
    "res = chi2(X,y)\n",
    "print(res)"
   ]
  },
  {
   "cell_type": "markdown",
   "metadata": {},
   "source": [
    "$\\chi^2=\\frac{sum(O_i-E_i)^2}{E_i}$ where O is observed values and E is expected values. For categorical variables\n",
    "only. Compute from contingency table: \n",
    "    "
   ]
  },
  {
   "cell_type": "code",
   "execution_count": null,
   "metadata": {},
   "outputs": [],
   "source": [
    "for 2x2 contingency table use McNemar test, not measuring independence, why not work? \n"
   ]
  },
  {
   "cell_type": "code",
   "execution_count": null,
   "metadata": {},
   "outputs": [],
   "source": [
    "for table bigger than 2x2 can use chisquare to test hypythesis if one categorical varible depends on value of others?\n",
    "For categorical variables only. null hypothesis is no association between variables, independent. \n",
    "reject null hypo if p-value < 0.05; if bigger fail to reject null hypo. \n",
    "Observed Values\n",
    "\n",
    "<table>\n",
    "<tr><th>25</th><th>3</th><th>Sum Row:28</th></tr>\n",
    "<tr><th>8</th><th>12</th><th>Sum Row:20</th></tr>\n",
    "<tr><th>Sum Col:33</th><th>Sum Col:15</th><th>Total:48</th></tr>\n",
    "</table>\n",
    "\n",
    "Expected= sum row+sum col/total\n",
    "For each row and column we calculate\n",
    "(28*33)/48=19.25,\n",
    "(20*33)/48=13.75,\n",
    "(28*15)/48=8.75,\n",
    "(20*15)/48=6.25\n",
    "and fill in values below in expected table\n",
    "<table>\n",
    "<tr><th>19.25</th><th>8.75</th><th>Sum Row:28</th></tr>\n",
    "<tr><th>13.75</th><th>6.25</th><th>Sum Row:20</th></tr>\n",
    "<tr><th>Sum Col:33</th><th>Sum Col:15</th><th>Total:48</th></tr>\n",
    "</table>\n",
    "The chi square is the sum of diff squared/expec\n",
    "(25-19.25)^2/19.25+(25-13.75)^2/13.75+(25-19.25)^2/19.25+(25-19.25)^2/19.25\n",
    "\n",
    "\n",
    "\n",
    "\n"
   ]
  },
  {
   "cell_type": "markdown",
   "metadata": {},
   "source": [
    "What to do for numerical values? \n"
   ]
  }
 ],
 "metadata": {
  "kernelspec": {
   "display_name": "Python 3 (ipykernel)",
   "language": "python",
   "name": "python3"
  },
  "language_info": {
   "codemirror_mode": {
    "name": "ipython",
    "version": 3
   },
   "file_extension": ".py",
   "mimetype": "text/x-python",
   "name": "python",
   "nbconvert_exporter": "python",
   "pygments_lexer": "ipython3",
   "version": "3.11.5"
  }
 },
 "nbformat": 4,
 "nbformat_minor": 4
}
