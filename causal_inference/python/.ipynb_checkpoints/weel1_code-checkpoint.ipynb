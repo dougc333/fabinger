{
 "cells": [
  {
   "cell_type": "code",
   "execution_count": 5,
   "metadata": {},
   "outputs": [],
   "source": [
    "#https://medium.com/@akelleh/causal-inference-with-pandas-dataframes-fc3e64fce5d\n",
    "#https://github.com/akelleh/causality\n",
    "#http://www.degeneratestate.org/posts/2018/Mar/24/causal-inference-with-python-part-1-potential-outcomes/\n",
    "#https://causalinferenceinpython.org/#installation\n",
    "\n",
    "\n",
    "#from __future__ import division\n",
    "\n",
    "import numpy as np\n",
    "import pandas as pd\n",
    "import matplotlib.pyplot as plt\n",
    "import seaborn as sns\n",
    "\n",
    "sns.set_style(\"whitegrid\")\n",
    "sns.set_palette(\"colorblind\")\n",
    "\n",
    "%matplotlib inline\n",
    "\n",
    "import datagenerators as dg\n",
    "from causalinference import CausalModel\n",
    "from causalinference.utils import random_data\n",
    "Y, D, X = random_data()\n",
    "causal = CausalModel(Y, D, X)"
   ]
  },
  {
   "cell_type": "code",
   "execution_count": 7,
   "metadata": {},
   "outputs": [
    {
     "data": {
      "text/html": [
       "<div>\n",
       "<style scoped>\n",
       "    .dataframe tbody tr th:only-of-type {\n",
       "        vertical-align: middle;\n",
       "    }\n",
       "\n",
       "    .dataframe tbody tr th {\n",
       "        vertical-align: top;\n",
       "    }\n",
       "\n",
       "    .dataframe thead th {\n",
       "        text-align: right;\n",
       "    }\n",
       "</style>\n",
       "<table border=\"1\" class=\"dataframe\">\n",
       "  <thead>\n",
       "    <tr style=\"text-align: right;\">\n",
       "      <th></th>\n",
       "      <th>x</th>\n",
       "      <th>y</th>\n",
       "    </tr>\n",
       "  </thead>\n",
       "  <tbody>\n",
       "    <tr>\n",
       "      <th>0</th>\n",
       "      <td>1</td>\n",
       "      <td>0</td>\n",
       "    </tr>\n",
       "    <tr>\n",
       "      <th>1</th>\n",
       "      <td>1</td>\n",
       "      <td>0</td>\n",
       "    </tr>\n",
       "    <tr>\n",
       "      <th>2</th>\n",
       "      <td>1</td>\n",
       "      <td>0</td>\n",
       "    </tr>\n",
       "    <tr>\n",
       "      <th>3</th>\n",
       "      <td>0</td>\n",
       "      <td>0</td>\n",
       "    </tr>\n",
       "    <tr>\n",
       "      <th>4</th>\n",
       "      <td>1</td>\n",
       "      <td>0</td>\n",
       "    </tr>\n",
       "  </tbody>\n",
       "</table>\n",
       "</div>"
      ],
      "text/plain": [
       "   x  y\n",
       "0  1  0\n",
       "1  1  0\n",
       "2  1  0\n",
       "3  0  0\n",
       "4  1  0"
      ]
     },
     "execution_count": 7,
     "metadata": {},
     "output_type": "execute_result"
    }
   ],
   "source": [
    "observed_data_0 = dg.generate_dataset_0()\n",
    "observed_data_0.head()\n",
    "#generate x=1 person has cool hat. x=0 no hat \n",
    "#productive 1 or 0 not productive(outcome)"
   ]
  },
  {
   "cell_type": "code",
   "execution_count": 8,
   "metadata": {},
   "outputs": [
    {
     "data": {
      "text/plain": [
       "{'estimated_effect': -0.1556256908954004,\n",
       " 'standard_error': 0.08681671433619813}"
      ]
     },
     "execution_count": 8,
     "metadata": {},
     "output_type": "execute_result"
    }
   ],
   "source": [
    "#estimating Causal Effect? \n",
    "#\n",
    "def estimate_uplift(ds):\n",
    "    \"\"\"\n",
    "    Estiamte the difference in means between two groups.\n",
    "    \n",
    "    Parameters\n",
    "    ----------\n",
    "    ds: pandas.DataFrame\n",
    "        a dataframe of samples.\n",
    "        \n",
    "    Returns\n",
    "    -------\n",
    "    estimated_uplift: dict[Str: float] containing two items:\n",
    "        \"estimated_effect\" - the difference in mean values of $y$ for treated and untreated samples.\n",
    "        \"standard_error\" - 90% confidence intervals arround \"estimated_effect\"\n",
    "        \n",
    "        \n",
    "    \"\"\"\n",
    "    base = ds[ds.x == 0]\n",
    "    variant = ds[ds.x == 1]\n",
    "    \n",
    "    delta = variant.y.mean() - base.y.mean()\n",
    "    delta_err = 1.96 * np.sqrt(\n",
    "        variant.y.var() / variant.shape[0] + \n",
    "        base.y.var() / base.shape[0])\n",
    "    \n",
    "    return {\"estimated_effect\": delta, \"standard_error\": delta_err}\n",
    "\n",
    "estimate_uplift(observed_data_0)\n",
    "#people with cool hats are 15.5% less productive"
   ]
  },
  {
   "cell_type": "code",
   "execution_count": 9,
   "metadata": {},
   "outputs": [
    {
     "data": {
      "text/plain": [
       "0.0006864081722202652"
      ]
     },
     "execution_count": 9,
     "metadata": {},
     "output_type": "execute_result"
    }
   ],
   "source": [
    "from scipy.stats import chi2_contingency\n",
    "\n",
    "contingency_table = (\n",
    "    observed_data_0\n",
    "    .assign(placeholder=1)\n",
    "    .pivot_table(index=\"x\", columns=\"y\", values=\"placeholder\", aggfunc=\"sum\")\n",
    "    .values\n",
    ")\n",
    "\n",
    "_, p, _, _ = chi2_contingency(contingency_table, lambda_=\"log-likelihood\")\n",
    "\n",
    "# p-value\n",
    "p\n",
    "#p value <.05 is SS."
   ]
  },
  {
   "cell_type": "code",
   "execution_count": 10,
   "metadata": {},
   "outputs": [
    {
     "data": {
      "text/plain": [
       "{'estimated_effect': 0.19679999999999997,\n",
       " 'standard_error': 0.019218387269410702}"
      ]
     },
     "execution_count": 10,
     "metadata": {},
     "output_type": "execute_result"
    }
   ],
   "source": [
    " \n",
    "def run_ab_test(datagenerator, n_samples=10000, filter_=None):\n",
    "    \"\"\"\n",
    "    Generates n_samples from datagenerator with the value of X randomized\n",
    "    so that 50% of the samples recieve treatment X=1 and 50% receive X=0,\n",
    "    and feeds the results into `estimate_uplift` to get an unbiased \n",
    "    estimate of the average treatment effect.\n",
    "    \n",
    "    Returns\n",
    "    -------\n",
    "    effect: dict\n",
    "    \"\"\"\n",
    "    n_samples_a = int(n_samples / 2)\n",
    "    n_samples_b = n_samples - n_samples_a\n",
    "    set_X = np.concatenate([np.ones(n_samples_a), np.zeros(n_samples_b)]).astype(np.int64)\n",
    "    ds = datagenerator(n_samples=n_samples, set_X=set_X)\n",
    "    if filter_ != None:\n",
    "        ds = ds[filter_(ds)].copy()\n",
    "    return estimate_uplift(ds)\n",
    "\n",
    "run_ab_test(dg.generate_dataset_0)\n",
    "#estimated effect is reversed"
   ]
  },
  {
   "cell_type": "code",
   "execution_count": null,
   "metadata": {},
   "outputs": [],
   "source": []
  }
 ],
 "metadata": {
  "kernelspec": {
   "display_name": "Python 3",
   "language": "python",
   "name": "python3"
  },
  "language_info": {
   "codemirror_mode": {
    "name": "ipython",
    "version": 3
   },
   "file_extension": ".py",
   "mimetype": "text/x-python",
   "name": "python",
   "nbconvert_exporter": "python",
   "pygments_lexer": "ipython3",
   "version": "3.7.7"
  }
 },
 "nbformat": 4,
 "nbformat_minor": 4
}
